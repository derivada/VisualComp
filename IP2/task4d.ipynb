{
 "cells": [
  {
   "cell_type": "code",
   "execution_count": 4,
   "metadata": {},
   "outputs": [],
   "source": [
    "import skimage\n",
    "import skimage.io\n",
    "import skimage.transform\n",
    "import pathlib\n",
    "import numpy as np\n",
    "import utils\n",
    "import matplotlib.pyplot as plt\n",
    "image_dir = pathlib.Path(\"images\")\n",
    "impaths = [\n",
    "    image_dir.joinpath(\"page1.png\"),\n",
    "    image_dir.joinpath(\"page2.png\"),\n",
    "    image_dir.joinpath(\"page4.png\"),\n",
    "    image_dir.joinpath(\"page6.png\"),\n",
    "    image_dir.joinpath(\"page7.png\"),\n",
    "    image_dir.joinpath(\"page8.png\"),\n",
    "]"
   ]
  },
  {
   "cell_type": "code",
   "execution_count": 7,
   "metadata": {},
   "outputs": [],
   "source": [
    "def create_binary_image(im):\n",
    "    \"\"\"Creates a binary image from a greyscale image \"im\"\n",
    "\n",
    "    Args:\n",
    "        im ([np.ndarray, np.float]): [An image of shape [H, W] in the range [0, 1]]\n",
    "\n",
    "    Returns:\n",
    "        [np.ndarray, np.bool]: [A binary image]\n",
    "    \"\"\"\n",
    "\n",
    "    # START YOUR CODE HERE ### (You can change anything inside this block)\n",
    "    binary_im = np.zeros_like(im, dtype=np.bool)\n",
    "    fft_im = np.fft.fft2(im)\n",
    "    visualize_im_fft = np.log(np.absolute(np.fft.fftshift(fft_im)) + 1)\n",
    "    normalized_im_fft = (visualize_im_fft / (np.max(visualize_im_fft) - np.min(visualize_im_fft))) * 255 \n",
    "    # Experimenting using GIMP threeshold we found that the line is clearly distinguised with values around 120 in the\n",
    "    # 0-255 range of the freq. domain representation \n",
    "    threeshold = lambda x: 1 if x >= 120 else 0\n",
    "\n",
    "    binary_im = threeshold(normalized_im_fft)\n",
    "    ### END YOUR CODE HERE ###\n",
    "    return binary_im"
   ]
  },
  {
   "cell_type": "code",
   "execution_count": 8,
   "metadata": {},
   "outputs": [
    {
     "name": "stderr",
     "output_type": "stream",
     "text": [
      "C:\\Users\\Pablo\\AppData\\Local\\Temp\\ipykernel_14852\\2400996397.py:12: DeprecationWarning: `np.bool` is a deprecated alias for the builtin `bool`. To silence this warning, use `bool` by itself. Doing this will not modify any behavior and is safe. If you specifically wanted the numpy scalar type, use `np.bool_` here.\n",
      "Deprecated in NumPy 1.20; for more details and guidance: https://numpy.org/devdocs/release/1.20.0-notes.html#deprecations\n",
      "  binary_im = np.zeros_like(im, dtype=np.bool)\n"
     ]
    },
    {
     "ename": "ValueError",
     "evalue": "The truth value of an array with more than one element is ambiguous. Use a.any() or a.all()",
     "output_type": "error",
     "traceback": [
      "\u001b[1;31m---------------------------------------------------------------------------\u001b[0m",
      "\u001b[1;31mValueError\u001b[0m                                Traceback (most recent call last)",
      "\u001b[1;32md:\\NTNUfall\\visualcomp\\assignments\\IP2\\task4d.ipynb Cell 3\u001b[0m in \u001b[0;36m<cell line: 1>\u001b[1;34m()\u001b[0m\n\u001b[0;32m      <a href='vscode-notebook-cell:/d%3A/NTNUfall/visualcomp/assignments/IP2/task4d.ipynb#W2sZmlsZQ%3D%3D?line=6'>7</a>\u001b[0m \u001b[39mfor\u001b[39;00m i, impath \u001b[39min\u001b[39;00m \u001b[39menumerate\u001b[39m(impaths):\n\u001b[0;32m      <a href='vscode-notebook-cell:/d%3A/NTNUfall/visualcomp/assignments/IP2/task4d.ipynb#W2sZmlsZQ%3D%3D?line=7'>8</a>\u001b[0m     im \u001b[39m=\u001b[39m utils\u001b[39m.\u001b[39mread_im(\u001b[39mstr\u001b[39m(impath))\n\u001b[1;32m----> <a href='vscode-notebook-cell:/d%3A/NTNUfall/visualcomp/assignments/IP2/task4d.ipynb#W2sZmlsZQ%3D%3D?line=8'>9</a>\u001b[0m     im_binary \u001b[39m=\u001b[39m create_binary_image(im)\n\u001b[0;32m     <a href='vscode-notebook-cell:/d%3A/NTNUfall/visualcomp/assignments/IP2/task4d.ipynb#W2sZmlsZQ%3D%3D?line=9'>10</a>\u001b[0m     \u001b[39massert\u001b[39;00m im_binary\u001b[39m.\u001b[39mdtype \u001b[39m==\u001b[39m np\u001b[39m.\u001b[39mbool,            \u001b[39mf\u001b[39m\u001b[39m\"\u001b[39m\u001b[39mExpected the image to be of dtype np.bool, got \u001b[39m\u001b[39m{\u001b[39;00mim_binary\u001b[39m.\u001b[39mdtype\u001b[39m}\u001b[39;00m\u001b[39m\"\u001b[39m\n\u001b[0;32m     <a href='vscode-notebook-cell:/d%3A/NTNUfall/visualcomp/assignments/IP2/task4d.ipynb#W2sZmlsZQ%3D%3D?line=10'>11</a>\u001b[0m     angles, distances \u001b[39m=\u001b[39m utils\u001b[39m.\u001b[39mfind_angle(im_binary)\n",
      "\u001b[1;32md:\\NTNUfall\\visualcomp\\assignments\\IP2\\task4d.ipynb Cell 3\u001b[0m in \u001b[0;36mcreate_binary_image\u001b[1;34m(im)\u001b[0m\n\u001b[0;32m     <a href='vscode-notebook-cell:/d%3A/NTNUfall/visualcomp/assignments/IP2/task4d.ipynb#W2sZmlsZQ%3D%3D?line=15'>16</a>\u001b[0m \u001b[39m# Experimenting using GIMP threeshold we found that the line is clearly distinguised with values around 120 in the\u001b[39;00m\n\u001b[0;32m     <a href='vscode-notebook-cell:/d%3A/NTNUfall/visualcomp/assignments/IP2/task4d.ipynb#W2sZmlsZQ%3D%3D?line=16'>17</a>\u001b[0m \u001b[39m# 0-255 range of the freq. domain representation \u001b[39;00m\n\u001b[0;32m     <a href='vscode-notebook-cell:/d%3A/NTNUfall/visualcomp/assignments/IP2/task4d.ipynb#W2sZmlsZQ%3D%3D?line=17'>18</a>\u001b[0m threeshold \u001b[39m=\u001b[39m \u001b[39mlambda\u001b[39;00m x: \u001b[39m1\u001b[39m \u001b[39mif\u001b[39;00m x \u001b[39m>\u001b[39m\u001b[39m=\u001b[39m \u001b[39m120\u001b[39m \u001b[39melse\u001b[39;00m \u001b[39m0\u001b[39m\n\u001b[1;32m---> <a href='vscode-notebook-cell:/d%3A/NTNUfall/visualcomp/assignments/IP2/task4d.ipynb#W2sZmlsZQ%3D%3D?line=19'>20</a>\u001b[0m binary_im \u001b[39m=\u001b[39m threeshold(normalized_im_fft)\n\u001b[0;32m     <a href='vscode-notebook-cell:/d%3A/NTNUfall/visualcomp/assignments/IP2/task4d.ipynb#W2sZmlsZQ%3D%3D?line=20'>21</a>\u001b[0m \u001b[39m### END YOUR CODE HERE ###\u001b[39;00m\n\u001b[0;32m     <a href='vscode-notebook-cell:/d%3A/NTNUfall/visualcomp/assignments/IP2/task4d.ipynb#W2sZmlsZQ%3D%3D?line=21'>22</a>\u001b[0m \u001b[39mreturn\u001b[39;00m binary_im\n",
      "\u001b[1;32md:\\NTNUfall\\visualcomp\\assignments\\IP2\\task4d.ipynb Cell 3\u001b[0m in \u001b[0;36mcreate_binary_image.<locals>.<lambda>\u001b[1;34m(x)\u001b[0m\n\u001b[0;32m     <a href='vscode-notebook-cell:/d%3A/NTNUfall/visualcomp/assignments/IP2/task4d.ipynb#W2sZmlsZQ%3D%3D?line=14'>15</a>\u001b[0m normalized_im_fft \u001b[39m=\u001b[39m (visualize_im_fft \u001b[39m/\u001b[39m (np\u001b[39m.\u001b[39mmax(visualize_im_fft) \u001b[39m-\u001b[39m np\u001b[39m.\u001b[39mmin(visualize_im_fft))) \u001b[39m*\u001b[39m \u001b[39m255\u001b[39m \n\u001b[0;32m     <a href='vscode-notebook-cell:/d%3A/NTNUfall/visualcomp/assignments/IP2/task4d.ipynb#W2sZmlsZQ%3D%3D?line=15'>16</a>\u001b[0m \u001b[39m# Experimenting using GIMP threeshold we found that the line is clearly distinguised with values around 120 in the\u001b[39;00m\n\u001b[0;32m     <a href='vscode-notebook-cell:/d%3A/NTNUfall/visualcomp/assignments/IP2/task4d.ipynb#W2sZmlsZQ%3D%3D?line=16'>17</a>\u001b[0m \u001b[39m# 0-255 range of the freq. domain representation \u001b[39;00m\n\u001b[1;32m---> <a href='vscode-notebook-cell:/d%3A/NTNUfall/visualcomp/assignments/IP2/task4d.ipynb#W2sZmlsZQ%3D%3D?line=17'>18</a>\u001b[0m threeshold \u001b[39m=\u001b[39m \u001b[39mlambda\u001b[39;00m x: \u001b[39m1\u001b[39m \u001b[39mif\u001b[39;00m x \u001b[39m>\u001b[39;49m\u001b[39m=\u001b[39;49m \u001b[39m120\u001b[39;49m \u001b[39melse\u001b[39;00m \u001b[39m0\u001b[39m\n\u001b[0;32m     <a href='vscode-notebook-cell:/d%3A/NTNUfall/visualcomp/assignments/IP2/task4d.ipynb#W2sZmlsZQ%3D%3D?line=19'>20</a>\u001b[0m binary_im \u001b[39m=\u001b[39m threeshold(normalized_im_fft)\n\u001b[0;32m     <a href='vscode-notebook-cell:/d%3A/NTNUfall/visualcomp/assignments/IP2/task4d.ipynb#W2sZmlsZQ%3D%3D?line=20'>21</a>\u001b[0m \u001b[39m### END YOUR CODE HERE ###\u001b[39;00m\n",
      "\u001b[1;31mValueError\u001b[0m: The truth value of an array with more than one element is ambiguous. Use a.any() or a.all()"
     ]
    },
    {
     "data": {
      "text/plain": [
       "<Figure size 288x864 with 0 Axes>"
      ]
     },
     "metadata": {},
     "output_type": "display_data"
    }
   ],
   "source": [
    "if __name__ == \"__main__\":\n",
    "    # NO NEED TO EDIT THE CODE BELOW.\n",
    "    verbose = True\n",
    "    plt.figure(figsize=(4, 12))    \n",
    "    plt.tight_layout()\n",
    "    images_to_visualize = []\n",
    "    for i, impath in enumerate(impaths):\n",
    "        im = utils.read_im(str(impath))\n",
    "        im_binary = create_binary_image(im)\n",
    "        assert im_binary.dtype == np.bool,            f\"Expected the image to be of dtype np.bool, got {im_binary.dtype}\"\n",
    "        angles, distances = utils.find_angle(im_binary)\n",
    "        angle = 0\n",
    "        if len(angles) > 0:\n",
    "            angle = angles[0] * 180 / np.pi\n",
    "        print(f\"Found angle: {angle:.2f}\")\n",
    "        hough_im = utils.create_hough_line_image(im, angles, distances)\n",
    "        rotated = skimage.transform.rotate(im, angle, cval=im.max())\n",
    "        images_to_visualize.extend(\n",
    "            [im, im_binary, hough_im, rotated]\n",
    "        )\n",
    "    image = utils.np_make_image_grid(images_to_visualize, nrow=len(impaths))\n",
    "    utils.save_im(\"task4d.png\", image)\n",
    "    plt.imshow(image, cmap=\"gray\")"
   ]
  }
 ],
 "metadata": {
  "kernelspec": {
   "display_name": "Python 3.9.12 ('base')",
   "language": "python",
   "name": "python3"
  },
  "language_info": {
   "codemirror_mode": {
    "name": "ipython",
    "version": 3
   },
   "file_extension": ".py",
   "mimetype": "text/x-python",
   "name": "python",
   "nbconvert_exporter": "python",
   "pygments_lexer": "ipython3",
   "version": "3.9.12"
  },
  "vscode": {
   "interpreter": {
    "hash": "1133a71a1ea1957f99d77aa8df79443a56054a58dc52f3dd16ce72fc1cce1cf3"
   }
  }
 },
 "nbformat": 4,
 "nbformat_minor": 4
}
