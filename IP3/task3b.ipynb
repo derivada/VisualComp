{
 "cells": [
  {
   "cell_type": "code",
   "execution_count": 8,
   "metadata": {},
   "outputs": [],
   "source": [
    "import utils\n",
    "import skimage\n",
    "import skimage.morphology\n",
    "import numpy as np"
   ]
  },
  {
   "cell_type": "code",
   "execution_count": 9,
   "metadata": {},
   "outputs": [],
   "source": [
    "# Remove noise function from subtask 3a)\n",
    "def remove_noise(im: np.ndarray) -> np.ndarray:\n",
    "    \"\"\"\n",
    "        A function that removes noise in the input image.\n",
    "        args:\n",
    "            im: np.ndarray of shape (H, W) with boolean values (dtype=np.bool)\n",
    "        return:\n",
    "            (np.ndarray) of shape (H, W). dtype=np.bool\n",
    "    \"\"\"\n",
    "    ### START YOUR CODE HERE ### (You can change anything inside this block)\n",
    "    # We choose an adequate structuring element size to eliminate all the specks of noise in original image\n",
    "    struct_size = 15 # Should be an odd, positive integer\n",
    "    structuring_element = np.zeros([struct_size, struct_size])\n",
    "    # We construct a binary circle centered in (floor(struct_radius/2), floor(struct_radius/2)) \n",
    "    # and with a radius of struct_radius/2\n",
    "    for i in range(0, struct_size):\n",
    "        for j in range(0, struct_size):\n",
    "            if((i-np.floor(struct_size/2))**2 + (j-np.floor(struct_size/2))**2 <= (struct_size/2)**2):\n",
    "                structuring_element[i, j] = 1\n",
    "    \n",
    "    # We now perform chained opening and closing to eliminate the noise\n",
    "    im = skimage.morphology.binary_opening(im, structuring_element)\n",
    "    im = skimage.morphology.binary_closing(im, structuring_element)\n",
    "\n",
    "    return im\n",
    "    ### END YOUR CODE HERE ###"
   ]
  },
  {
   "cell_type": "code",
   "execution_count": 10,
   "metadata": {},
   "outputs": [],
   "source": [
    "def distance_transform(im: np.ndarray) -> np.ndarray:\n",
    "    \"\"\"\n",
    "        A function that computes the distance to the closest boundary pixel.\n",
    "\n",
    "        args:\n",
    "            im: np.ndarray of shape (H, W) with boolean values (dtype=np.bool)\n",
    "        return:\n",
    "            (np.ndarray) of shape (H, W). dtype=np.int32\n",
    "    \"\"\"\n",
    "    ### START YOUR CODE HERE ### (You can change anything inside this block)\n",
    "    assert im.dtype == np.bool\n",
    "    structuring_element = np.array([\n",
    "        [1, 1, 1],\n",
    "        [1, 1, 1],\n",
    "        [1, 1, 1]\n",
    "    ], dtype=bool)\n",
    "    # We start with an empty image\n",
    "    result = im.astype(np.int32)\n",
    "    # We perform a loop on all the possible intensity values for 8-bit images\n",
    "    for i in range(0, 255):\n",
    "        eroded_im = skimage.morphology.binary_erosion(im, structuring_element)\n",
    "        # We get the pixels that changed (XOR) in this erosion stage and set their value to i, following\n",
    "        # the chessboard pattern\n",
    "        diff_im = np.logical_xor(im, eroded_im)\n",
    "        result[diff_im] = i\n",
    "        im = eroded_im\n",
    "        # If no pixels changed, that means the image is already all 0s and we can stop\n",
    "        if(np.count_nonzero(diff_im) == 0):\n",
    "            break\n",
    "\n",
    "    return result\n",
    "    ### END YOUR CODE HERE ###"
   ]
  },
  {
   "cell_type": "code",
   "execution_count": 11,
   "metadata": {},
   "outputs": [
    {
     "name": "stdout",
     "output_type": "stream",
     "text": [
      "Reading image: images\\noisy.png\n",
      "Saving image to: image_processed\\noisy-distance.png\n"
     ]
    },
    {
     "name": "stderr",
     "output_type": "stream",
     "text": [
      "C:\\Users\\Pablo\\AppData\\Local\\Temp\\ipykernel_35396\\3370909493.py:11: DeprecationWarning: `np.bool` is a deprecated alias for the builtin `bool`. To silence this warning, use `bool` by itself. Doing this will not modify any behavior and is safe. If you specifically wanted the numpy scalar type, use `np.bool_` here.\n",
      "Deprecated in NumPy 1.20; for more details and guidance: https://numpy.org/devdocs/release/1.20.0-notes.html#deprecations\n",
      "  assert im.dtype == np.bool\n"
     ]
    }
   ],
   "source": [
    "if __name__ == \"__main__\":\n",
    "    im = utils.read_image(\"noisy.png\")\n",
    "    binary_image = (im != 0)\n",
    "    noise_free_image = remove_noise(binary_image)\n",
    "    distance = distance_transform(noise_free_image)\n",
    "\n",
    "    assert im.shape == distance.shape, \"Expected image shape ({}) to be same as resulting image shape ({})\".format(\n",
    "            im.shape, distance.shape)\n",
    "    assert distance.dtype == np.int32, \"Expected resulting image dtype to be np.int32. Was: {}\".format(\n",
    "            distance.dtype)\n",
    "\n",
    "    distance = utils.to_uint8(distance)\n",
    "    utils.save_im(\"noisy-distance.png\", distance)"
   ]
  }
 ],
 "metadata": {
  "kernelspec": {
   "display_name": "Python 3.9.12 ('base')",
   "language": "python",
   "name": "python3"
  },
  "language_info": {
   "codemirror_mode": {
    "name": "ipython",
    "version": 3
   },
   "file_extension": ".py",
   "mimetype": "text/x-python",
   "name": "python",
   "nbconvert_exporter": "python",
   "pygments_lexer": "ipython3",
   "version": "3.9.12"
  },
  "vscode": {
   "interpreter": {
    "hash": "1133a71a1ea1957f99d77aa8df79443a56054a58dc52f3dd16ce72fc1cce1cf3"
   }
  }
 },
 "nbformat": 4,
 "nbformat_minor": 4
}
