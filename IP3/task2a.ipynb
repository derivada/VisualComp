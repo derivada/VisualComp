{
 "cells": [
  {
   "cell_type": "code",
   "execution_count": 1,
   "metadata": {},
   "outputs": [],
   "source": [
    "import numpy as np\n",
    "import skimage\n",
    "import utils\n",
    "import pathlib"
   ]
  },
  {
   "cell_type": "code",
   "execution_count": 2,
   "metadata": {},
   "outputs": [],
   "source": [
    "def otsu_thresholding(im: np.ndarray) -> int:\n",
    "    \"\"\"\n",
    "        Otsu's thresholding algorithm that segments an image into 1 or 0 (True or False)\n",
    "        The function takes in a grayscale image and outputs a boolean image\n",
    "\n",
    "        args:\n",
    "            im: np.ndarray of shape (H, W) in the range [0, 255] (dtype=np.uint8)\n",
    "        return:\n",
    "            (int) the computed thresholding value\n",
    "    \"\"\"\n",
    "    assert im.dtype == np.uint8\n",
    "    threshold = 128\n",
    "\n",
    "    ### START YOUR CODE HERE ### (You can change anything inside this block) \n",
    "    L = 256 # Possible intensities\n",
    "    MN = im.shape[0] * im.shape[1] # Total number of pixels in the image\n",
    "    \n",
    "    cum_sums = np.zeros(L) # Cummulative sums = sum(pi)\n",
    "    cum_means = np.zeros(L) # Cummulative means = sum(i*pi), last value is the global mean\n",
    "    cum_sums[0] =  np.count_nonzero(im == 0) / MN # The first cummulative sum is the value of the normalized histogram at 0\n",
    "    for i in range(1, L):\n",
    "        # Normalized histogram for value i, no need to save in array as it is only used here\n",
    "        norm_hist_i = np.count_nonzero(im == i) / MN \n",
    "        cum_sums[i] = cum_sums[i-1] + norm_hist_i\n",
    "        cum_means[i] = cum_means[i-1] + i*norm_hist_i\n",
    "\n",
    "    max_between = 0 # Maximum between class variance, the Otsu optimal threeshold is the index for which we find this maximum\n",
    "    for i in range(1, L):\n",
    "        if(cum_sums[i] == 0): continue # No image values found yet, do not get division by 0\n",
    "        # We find the between class variances for the index i and check if we have a new maximum, do not need to save in array\n",
    "        # as it is only used here\n",
    "        between_class_vars_i = (cum_means[L-1] * cum_sums[i] - cum_means[i])**2 / (cum_sums[i]*(1-cum_sums[i]))\n",
    "        if(between_class_vars_i  > max_between):\n",
    "            max_between =  between_class_vars_i \n",
    "            threshold = i\n",
    "    \n",
    "    ### END YOUR CODE HERE ###\n",
    "\n",
    "    return threshold"
   ]
  },
  {
   "cell_type": "code",
   "execution_count": 3,
   "metadata": {},
   "outputs": [
    {
     "name": "stdout",
     "output_type": "stream",
     "text": [
      "Reading image: images\\thumbprint.png\n",
      "Found optimal threshold: 153\n",
      "Saving image to: image_processed\\thumbprint-segmented.png\n",
      "Reading image: images\\polymercell.png\n"
     ]
    },
    {
     "name": "stderr",
     "output_type": "stream",
     "text": [
      "C:\\Users\\Pablo\\AppData\\Local\\Temp\\ipykernel_12108\\1997791817.py:16: DeprecationWarning: `np.bool` is a deprecated alias for the builtin `bool`. To silence this warning, use `bool` by itself. Doing this will not modify any behavior and is safe. If you specifically wanted the numpy scalar type, use `np.bool_` here.\n",
      "Deprecated in NumPy 1.20; for more details and guidance: https://numpy.org/devdocs/release/1.20.0-notes.html#deprecations\n",
      "  assert segmented_image.dtype == np.bool, \"Expected thresholded image dtype to be np.bool. Was: {}\".format(\n"
     ]
    },
    {
     "name": "stdout",
     "output_type": "stream",
     "text": [
      "Found optimal threshold: 181\n",
      "Saving image to: image_processed\\polymercell-segmented.png\n"
     ]
    }
   ],
   "source": [
    "if __name__ == \"__main__\":\n",
    "    # DO NOT CHANGE\n",
    "    impaths_to_segment = [\n",
    "        pathlib.Path(\"thumbprint.png\"),\n",
    "        pathlib.Path(\"polymercell.png\")\n",
    "    ]\n",
    "    for impath in impaths_to_segment:\n",
    "        im = utils.read_image(impath)\n",
    "        threshold = otsu_thresholding(im)\n",
    "        print(\"Found optimal threshold:\", threshold)\n",
    "\n",
    "        # Segment the image by threshold\n",
    "        segmented_image = (im >= threshold)\n",
    "        assert im.shape == segmented_image.shape, \"Expected image shape ({}) to be same as thresholded image shape ({})\".format(\n",
    "                im.shape, segmented_image.shape)\n",
    "        assert segmented_image.dtype == np.bool, \"Expected thresholded image dtype to be np.bool. Was: {}\".format(\n",
    "                segmented_image.dtype)\n",
    "\n",
    "        segmented_image = utils.to_uint8(segmented_image)\n",
    "\n",
    "        save_path = \"{}-segmented.png\".format(impath.stem)\n",
    "        utils.save_im(save_path, segmented_image)"
   ]
  }
 ],
 "metadata": {
  "kernelspec": {
   "display_name": "Python 3.9.12 ('base')",
   "language": "python",
   "name": "python3"
  },
  "language_info": {
   "codemirror_mode": {
    "name": "ipython",
    "version": 3
   },
   "file_extension": ".py",
   "mimetype": "text/x-python",
   "name": "python",
   "nbconvert_exporter": "python",
   "pygments_lexer": "ipython3",
   "version": "3.9.12"
  },
  "vscode": {
   "interpreter": {
    "hash": "1133a71a1ea1957f99d77aa8df79443a56054a58dc52f3dd16ce72fc1cce1cf3"
   }
  }
 },
 "nbformat": 4,
 "nbformat_minor": 4
}
