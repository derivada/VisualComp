{
 "cells": [
  {
   "cell_type": "code",
   "execution_count": 1,
   "metadata": {},
   "outputs": [],
   "source": [
    "import utils\n",
    "import skimage\n",
    "import skimage.morphology\n",
    "import numpy as np"
   ]
  },
  {
   "cell_type": "code",
   "execution_count": 2,
   "metadata": {},
   "outputs": [],
   "source": [
    "def remove_noise(im: np.ndarray) -> np.ndarray:\n",
    "    \"\"\"\n",
    "        A function that removes noise in the input image.\n",
    "        args:\n",
    "            im: np.ndarray of shape (H, W) with boolean values (dtype=np.bool)\n",
    "        return:\n",
    "            (np.ndarray) of shape (H, W). dtype=np.bool\n",
    "    \"\"\"\n",
    "    ### START YOUR CODE HERE ### (You can change anything inside this block)\n",
    "    # We choose an adequate structuring element size to eliminate all the specks of noise in original image\n",
    "    struct_size = 15 # Should be an odd, positive integer\n",
    "    structuring_element = np.zeros([struct_size, struct_size])\n",
    "    # We construct a binary circle centered in (floor(struct_radius/2), floor(struct_radius/2)) \n",
    "    # and with a radius of struct_radius/2\n",
    "    for i in range(0, struct_size):\n",
    "        for j in range(0, struct_size):\n",
    "            if((i-np.floor(struct_size/2))**2 + (j-np.floor(struct_size/2))**2 <= (struct_size/2)**2):\n",
    "                structuring_element[i, j] = 1\n",
    "    \n",
    "    # We now perform chained opening and closing to eliminate the noise\n",
    "    im = skimage.morphology.binary_opening(im, structuring_element)\n",
    "    im = skimage.morphology.binary_closing(im, structuring_element)\n",
    "\n",
    "    return im\n",
    "    ### END YOUR CODE HERE ###"
   ]
  },
  {
   "cell_type": "code",
   "execution_count": 3,
   "metadata": {},
   "outputs": [
    {
     "name": "stdout",
     "output_type": "stream",
     "text": [
      "Reading image: images\\noisy.png\n",
      "Saving image to: image_processed\\noisy-filtered.png\n"
     ]
    },
    {
     "name": "stderr",
     "output_type": "stream",
     "text": [
      "C:\\Users\\Pablo\\AppData\\Local\\Temp\\ipykernel_27924\\1796800841.py:9: DeprecationWarning: `np.bool` is a deprecated alias for the builtin `bool`. To silence this warning, use `bool` by itself. Doing this will not modify any behavior and is safe. If you specifically wanted the numpy scalar type, use `np.bool_` here.\n",
      "Deprecated in NumPy 1.20; for more details and guidance: https://numpy.org/devdocs/release/1.20.0-notes.html#deprecations\n",
      "  assert noise_free_image.dtype == np.bool, \"Expected resulting image dtype to be np.bool. Was: {}\".format(\n"
     ]
    }
   ],
   "source": [
    "if __name__ == \"__main__\":\n",
    "    # DO NOT CHANGE\n",
    "    im = utils.read_image(\"noisy.png\")\n",
    "    binary_image = (im != 0)\n",
    "    noise_free_image = remove_noise(binary_image)\n",
    "\n",
    "    assert im.shape == noise_free_image.shape, \"Expected image shape ({}) to be same as resulting image shape ({})\".format(\n",
    "            im.shape, noise_free_image.shape)\n",
    "    assert noise_free_image.dtype == np.bool, \"Expected resulting image dtype to be np.bool. Was: {}\".format(\n",
    "            noise_free_image.dtype)\n",
    "\n",
    "    noise_free_image = utils.to_uint8(noise_free_image)\n",
    "    utils.save_im(\"noisy-filtered.png\", noise_free_image)"
   ]
  }
 ],
 "metadata": {
  "kernelspec": {
   "display_name": "Python 3.9.12 ('base')",
   "language": "python",
   "name": "python3"
  },
  "language_info": {
   "codemirror_mode": {
    "name": "ipython",
    "version": 3
   },
   "file_extension": ".py",
   "mimetype": "text/x-python",
   "name": "python",
   "nbconvert_exporter": "python",
   "pygments_lexer": "ipython3",
   "version": "3.9.12"
  },
  "vscode": {
   "interpreter": {
    "hash": "1133a71a1ea1957f99d77aa8df79443a56054a58dc52f3dd16ce72fc1cce1cf3"
   }
  }
 },
 "nbformat": 4,
 "nbformat_minor": 4
}
